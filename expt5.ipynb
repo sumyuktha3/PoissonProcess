{
 "cells": [
  {
   "cell_type": "code",
   "execution_count": 1,
   "id": "fc29720c",
   "metadata": {},
   "outputs": [
    {
     "name": "stdout",
     "output_type": "stream",
     "text": [
      "The 1 -step probability distribution is\n",
      "[[0.         0.13333333 0.16666667]\n",
      " [0.15       0.         0.25      ]\n",
      " [0.15       0.1        0.        ]]\n",
      "The 2 -step probability distribution is\n",
      "[[0.         0.08888889 0.05555556]\n",
      " [0.075      0.         0.125     ]\n",
      " [0.075      0.05       0.        ]]\n",
      "The 3 -step probability distribution is\n",
      "[[0.         0.05925926 0.01851852]\n",
      " [0.0375     0.         0.0625    ]\n",
      " [0.0375     0.025      0.        ]]\n",
      "The 4 -step probability distribution is\n",
      "[[0.         0.03950617 0.00617284]\n",
      " [0.01875    0.         0.03125   ]\n",
      " [0.01875    0.0125     0.        ]]\n",
      "The 5 -step probability distribution is\n",
      "[[0.         0.02633745 0.00205761]\n",
      " [0.009375   0.         0.015625  ]\n",
      " [0.009375   0.00625    0.        ]]\n",
      "The 6 -step probability distribution is\n",
      "[[0.         0.0175583  0.00068587]\n",
      " [0.0046875  0.         0.0078125 ]\n",
      " [0.0046875  0.003125   0.        ]]\n"
     ]
    }
   ],
   "source": [
    "import numpy as np\n",
    "P0=[0.3,0.2,0.5]\n",
    "P=[[0,2/3,1/3],[1/2,0,1/2],[1/2,1/2,0]]\n",
    "n=6\n",
    "for i in range(1,n+1):\n",
    "    P0=np.multiply(P0,P)\n",
    "    print(\"The %d -step probability distribution is\"%i)\n",
    "    print(P0)\n"
   ]
  },
  {
   "cell_type": "code",
   "execution_count": null,
   "id": "af8ea0cd",
   "metadata": {},
   "outputs": [],
   "source": []
  }
 ],
 "metadata": {
  "kernelspec": {
   "display_name": "Python 3",
   "language": "python",
   "name": "python3"
  },
  "language_info": {
   "codemirror_mode": {
    "name": "ipython",
    "version": 3
   },
   "file_extension": ".py",
   "mimetype": "text/x-python",
   "name": "python",
   "nbconvert_exporter": "python",
   "pygments_lexer": "ipython3",
   "version": "3.8.8"
  }
 },
 "nbformat": 4,
 "nbformat_minor": 5
}
